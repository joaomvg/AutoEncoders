{
 "cells": [
  {
   "cell_type": "code",
   "execution_count": 8,
   "metadata": {},
   "outputs": [],
   "source": [
    "import torch\n",
    "import torch.nn as nn\n",
    "import torch.nn.functional as F\n",
    "from torch.utils.data import Dataset\n",
    "from torch import optim\n",
    "\n",
    "import math\n",
    "import numpy as np\n",
    "import pandas as pd\n",
    "from arff2pandas import a2p\n",
    "import io\n",
    "from tqdm import tqdm\n",
    "\n",
    "import matplotlib.pyplot as plt\n",
    "import seaborn as sns"
   ]
  },
  {
   "cell_type": "code",
   "execution_count": 5,
   "metadata": {},
   "outputs": [],
   "source": [
    "art_daily_small=pd.read_csv('Input/art_daily_small_noise.csv', parse_dates=True, index_col='timestamp')\n",
    "art_daily_jump=pd.read_csv('Input/art_daily_jumpsup.csv', parse_dates=True, index_col='timestamp')"
   ]
  },
  {
   "cell_type": "code",
   "execution_count": 7,
   "metadata": {},
   "outputs": [
    {
     "data": {
      "text/plain": [
       "<AxesSubplot:xlabel='timestamp'>"
      ]
     },
     "execution_count": 7,
     "metadata": {},
     "output_type": "execute_result"
    },
    {
     "data": {
      "image/png": "[encoded data removed]",
      "text/plain": [
       "<Figure size 432x288 with 1 Axes>"
      ]
     },
     "metadata": {
      "needs_background": "light"
     },
     "output_type": "display_data"
    }
   ],
   "source": [
    "art_daily_small.plot()"
   ]
  },
  {
   "cell_type": "code",
   "execution_count": 9,
   "metadata": {},
   "outputs": [
    {
     "name": "stdout",
     "output_type": "stream",
     "text": [
      "Number of training samples: 4032\n"
     ]
    }
   ],
   "source": [
    "training_mean = art_daily_small.mean()\n",
    "training_std = art_daily_small.std()\n",
    "df_training_value = (art_daily_small - training_mean) / training_std\n",
    "print(\"Number of training samples:\", len(df_training_value))"
   ]
  },
  {
   "cell_type": "code",
   "execution_count": 10,
   "metadata": {},
   "outputs": [
    {
     "name": "stdout",
     "output_type": "stream",
     "text": [
      "Training input shape:  (3745, 288, 1)\n"
     ]
    }
   ],
   "source": [
    "TIME_STEPS = 288\n",
    "\n",
    "# Generated training sequences for use in the model.\n",
    "def create_sequences(values, time_steps=TIME_STEPS):\n",
    "    output = []\n",
    "    for i in range(len(values) - time_steps + 1):\n",
    "        output.append(values[i : (i + time_steps)])\n",
    "    return np.stack(output)\n",
    "\n",
    "\n",
    "x_train = create_sequences(df_training_value.values)\n",
    "print(\"Training input shape: \", x_train.shape)"
   ]
  },
  {
   "cell_type": "markdown",
   "metadata": {},
   "source": [
    "# CNN Model"
   ]
  },
  {
   "cell_type": "code",
   "execution_count": 166,
   "metadata": {},
   "outputs": [],
   "source": [
    "class CNNAutoencoder(nn.Module):\n",
    "    def __init__(self,seq_len=TIME_STEPS,n_features=1):\n",
    "        super(CNNAutoencoder,self).__init__()\n",
    "        \n",
    "        self.seq_len=seq_len\n",
    "        self.n_features=n_features\n",
    "        \n",
    "        self.conv1=nn.Sequential(nn.Conv1d(1,32, kernel_size=7,stride=2,padding=3),nn.ReLU(),nn.Dropout(0.2))\n",
    "        self.conv2=nn.Sequential(nn.Conv1d(32,16,kernel_size=7,stride=2,padding=3),nn.ReLU())\n",
    "        \n",
    "        self.conv1T=nn.Sequential(nn.ConvTranspose1d(16,16,kernel_size=7,padding=3,stride=2,output_padding=1),nn.ReLU(),nn.Dropout(0.2))\n",
    "        self.conv2T=nn.Sequential(nn.ConvTranspose1d(16,32,kernel_size=7,stride=2,padding=3,output_padding=1),nn.ReLU())\n",
    "        self.conv3T=nn.ConvTranspose1d(32,1,kernel_size=7,padding=3,stride=1,output_padding=0)\n",
    "        \n",
    "        self.encoder=nn.Sequential(self.conv1,self.conv2)\n",
    "        self.decoder=nn.Sequential(self.conv1T,self.conv2T,self.conv3T)\n",
    "        \n",
    "    def forward(self,x):\n",
    "        # x.size: batch, seq_len, n_features\n",
    "        x=x.transpose(1,2)\n",
    "        #x.size= batch, n_features, seq_len\n",
    "        x=self.encoder(x)\n",
    "        x=self.decoder(x)\n",
    "        \n",
    "        return x.transpose(1,2)\n",
    "    \n",
    "    @property\n",
    "    def get_n_params(self):\n",
    "        pp=0\n",
    "        for p in list(self.parameters()):\n",
    "            nn=1\n",
    "            for s in list(p.size()):\n",
    "                nn = nn*s\n",
    "            pp += nn\n",
    "        return pp"
   ]
  },
  {
   "cell_type": "code",
   "execution_count": 156,
   "metadata": {},
   "outputs": [],
   "source": [
    "def Lout(Lin,padding,stride,kernel,dilation=1):\n",
    "    \n",
    "    return (Lin+2*padding-dilation*(kernel-1) -1)//stride +1\n",
    "\n",
    "def LoutT(Lin,padding,stride,kernel,out_padding,dilation=1):\n",
    "    \n",
    "    return (Lin-1)*stride-2*padding+dilation*(kernel-1)+out_padding+1"
   ]
  },
  {
   "cell_type": "code",
   "execution_count": 16,
   "metadata": {},
   "outputs": [],
   "source": [
    "class MYDataset(Dataset):\n",
    "    def __init__(self,X):\n",
    "        self.x=X\n",
    "        \n",
    "    def __len__(self):\n",
    "        return len(self.x)\n",
    "    \n",
    "    def __getitem__(self, index):\n",
    "        return torch.FloatTensor(self.x[index])"
   ]
  },
  {
   "cell_type": "code",
   "execution_count": 17,
   "metadata": {},
   "outputs": [],
   "source": [
    "train_ds=MYDataset(x_train)"
   ]
  },
  {
   "cell_type": "code",
   "execution_count": 20,
   "metadata": {},
   "outputs": [],
   "source": [
    "train_dl = torch.utils.data.DataLoader(train_ds, batch_size=12, shuffle=True, num_workers=6)"
   ]
  },
  {
   "cell_type": "code",
   "execution_count": 30,
   "metadata": {},
   "outputs": [],
   "source": [
    "for a in train_dl:\n",
    "    break"
   ]
  },
  {
   "cell_type": "markdown",
   "metadata": {},
   "source": [
    "# Training"
   ]
  },
  {
   "cell_type": "code",
   "execution_count": 171,
   "metadata": {},
   "outputs": [],
   "source": [
    "def train_fct(model, train_loader, epochs, criterion, optimizer, device):\n",
    "    L=len(train_loader)\n",
    "    model.train()\n",
    "    for epoch in range(1, epochs + 1):\n",
    "         # Make sure that the model is in training mode.\n",
    "\n",
    "        total_loss = 0\n",
    "        hidden = None\n",
    "        for batch in tqdm(train_loader):\n",
    "            # get data\n",
    "                       \n",
    "            batch= batch.to(device)\n",
    "            optimizer.zero_grad()\n",
    "\n",
    "            # get predictions from model\n",
    "            pred = model(batch)\n",
    "            \n",
    "            # perform backprop\n",
    "            loss = criterion( pred,batch)\n",
    "            loss.backward()\n",
    "            optimizer.step()\n",
    "            \n",
    "            total_loss += loss.data.item()\n",
    "        \n",
    "        print(\"Epoch: {}, Loss: {}\".format(epoch, total_loss /L))\n",
    "        \n",
    "def val_score(model,test_dl,criterion):\n",
    "    total_loss = 0\n",
    "    L=len(test_dl)\n",
    "    model.eval()\n",
    "    for batch in tqdm(test_dl):\n",
    "        # get data\n",
    "        \n",
    "        batch= batch.to(device)\n",
    "\n",
    "        # get predictions from model\n",
    "        pred = model(batch)\n",
    "        loss=criterion(pred,batch)\n",
    "        total_loss += loss.data.item()\n",
    "    \n",
    "    return (total_loss/L)"
   ]
  },
  {
   "cell_type": "code",
   "execution_count": 164,
   "metadata": {},
   "outputs": [
    {
     "name": "stdout",
     "output_type": "stream",
     "text": [
      "Using device cuda.\n"
     ]
    }
   ],
   "source": [
    "device = torch.device(\"cuda\" if torch.cuda.is_available() else \"cpu\")\n",
    "print(\"Using device {}.\".format(device))"
   ]
  },
  {
   "cell_type": "code",
   "execution_count": 167,
   "metadata": {},
   "outputs": [],
   "source": [
    "model=CNNAutoencoder().to(device)"
   ]
  },
  {
   "cell_type": "code",
   "execution_count": 168,
   "metadata": {},
   "outputs": [
    {
     "data": {
      "text/plain": [
       "9505"
      ]
     },
     "execution_count": 168,
     "metadata": {},
     "output_type": "execute_result"
    }
   ],
   "source": [
    "model.get_n_params"
   ]
  },
  {
   "cell_type": "code",
   "execution_count": 169,
   "metadata": {},
   "outputs": [],
   "source": [
    "optimizer = torch.optim.Adam(model.parameters(), lr=0.001)\n",
    "criterion = nn.MSELoss(reduction='mean')"
   ]
  },
  {
   "cell_type": "code",
   "execution_count": 173,
   "metadata": {},
   "outputs": [
    {
     "name": "stderr",
     "output_type": "stream",
     "text": [
      "100%|██████████| 313/313 [00:01<00:00, 203.57it/s]\n",
      "  0%|          | 0/313 [00:00<?, ?it/s]"
     ]
    },
    {
     "name": "stdout",
     "output_type": "stream",
     "text": [
      "Epoch: 1, Loss: 0.005730390114287218\n"
     ]
    },
    {
     "name": "stderr",
     "output_type": "stream",
     "text": [
      "100%|██████████| 313/313 [00:01<00:00, 212.21it/s]\n",
      "  0%|          | 0/313 [00:00<?, ?it/s]"
     ]
    },
    {
     "name": "stdout",
     "output_type": "stream",
     "text": [
      "Epoch: 2, Loss: 0.005210445317537926\n"
     ]
    },
    {
     "name": "stderr",
     "output_type": "stream",
     "text": [
      "100%|██████████| 313/313 [00:01<00:00, 187.16it/s]"
     ]
    },
    {
     "name": "stdout",
     "output_type": "stream",
     "text": [
      "Epoch: 3, Loss: 0.004851287883965257\n"
     ]
    },
    {
     "name": "stderr",
     "output_type": "stream",
     "text": [
      "\n"
     ]
    }
   ],
   "source": [
    "train_fct(model,train_dl,3,criterion,optimizer,device)"
   ]
  },
  {
   "cell_type": "code",
   "execution_count": 183,
   "metadata": {},
   "outputs": [],
   "source": [
    "pred=model(train_ds[10].unsqueeze(0).to(device))"
   ]
  },
  {
   "cell_type": "code",
   "execution_count": 184,
   "metadata": {},
   "outputs": [
    {
     "data": {
      "text/plain": [
       "[<matplotlib.lines.Line2D at 0x7f4a4806f220>]"
      ]
     },
     "execution_count": 184,
     "metadata": {},
     "output_type": "execute_result"
    },
    {
     "data": {
      "image/png": "[encoded data removed]",
      "text/plain": [
       "<Figure size 432x288 with 1 Axes>"
      ]
     },
     "metadata": {
      "needs_background": "light"
     },
     "output_type": "display_data"
    }
   ],
   "source": [
    "plt.plot(pred.cpu().detach().numpy()[0,:,0])\n",
    "plt.plot(x_train[10])"
   ]
  }
 ],
 "metadata": {
  "interpreter": {
   "hash": "46b936ff1622c326d442b837a2b71fa5dbcf20e52e3a75b5ec5a0d8bfc7f438d"
  },
  "kernelspec": {
   "display_name": "Python 3.8.5 64-bit ('base': conda)",
   "language": "python",
   "name": "python3"
  },
  "language_info": {
   "codemirror_mode": {
    "name": "ipython",
    "version": 3
   },
   "file_extension": ".py",
   "mimetype": "text/x-python",
   "name": "python",
   "nbconvert_exporter": "python",
   "pygments_lexer": "ipython3",
   "version": "3.8.5"
  },
  "orig_nbformat": 4
 },
 "nbformat": 4,
 "nbformat_minor": 2
}
