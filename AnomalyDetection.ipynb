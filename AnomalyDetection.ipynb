{
 "cells": [
  {
   "cell_type": "code",
   "execution_count": 1,
   "metadata": {},
   "outputs": [],
   "source": [
    "import torch\n",
    "import torch.nn as nn\n",
    "import torch.nn.functional as F\n",
    "from torch.utils.data import Dataset\n",
    "from torch import optim\n",
    "\n",
    "import math\n",
    "import numpy as np\n",
    "import pandas as pd\n",
    "from arff2pandas import a2p\n",
    "import io\n",
    "from tqdm import tqdm"
   ]
  },
  {
   "cell_type": "code",
   "execution_count": 2,
   "metadata": {},
   "outputs": [],
   "source": [
    "from sklearn.model_selection import train_test_split"
   ]
  },
  {
   "cell_type": "code",
   "execution_count": 3,
   "metadata": {},
   "outputs": [],
   "source": [
    "import matplotlib.pyplot as plt\n",
    "import seaborn as sns"
   ]
  },
  {
   "cell_type": "code",
   "execution_count": 4,
   "metadata": {},
   "outputs": [],
   "source": [
    "with open('Input/ECG5000_TRAIN.arff') as f:\n",
    "  train = a2p.load(f)\n",
    "with open('Input/ECG5000_TEST.arff') as f:\n",
    "  test = a2p.load(f)"
   ]
  },
  {
   "cell_type": "code",
   "execution_count": 5,
   "metadata": {},
   "outputs": [
    {
     "data": {
      "text/plain": [
       "((500, 141), (4500, 141))"
      ]
     },
     "execution_count": 5,
     "metadata": {},
     "output_type": "execute_result"
    }
   ],
   "source": [
    "train.shape, test.shape"
   ]
  },
  {
   "cell_type": "code",
   "execution_count": 6,
   "metadata": {},
   "outputs": [
    {
     "data": {
      "text/plain": [
       "(5000, 141)"
      ]
     },
     "execution_count": 6,
     "metadata": {},
     "output_type": "execute_result"
    }
   ],
   "source": [
    "df = train.append(test)\n",
    "df = df.sample(frac=1.0)\n",
    "df.shape"
   ]
  },
  {
   "cell_type": "code",
   "execution_count": 7,
   "metadata": {},
   "outputs": [
    {
     "data": {
      "text/html": [
       "<div>\n",
       "<style scoped>\n",
       "    .dataframe tbody tr th:only-of-type {\n",
       "        vertical-align: middle;\n",
       "    }\n",
       "\n",
       "    .dataframe tbody tr th {\n",
       "        vertical-align: top;\n",
       "    }\n",
       "\n",
       "    .dataframe thead th {\n",
       "        text-align: right;\n",
       "    }\n",
       "</style>\n",
       "<table border=\"1\" class=\"dataframe\">\n",
       "  <thead>\n",
       "    <tr style=\"text-align: right;\">\n",
       "      <th></th>\n",
       "      <th>att1@NUMERIC</th>\n",
       "      <th>att2@NUMERIC</th>\n",
       "      <th>att3@NUMERIC</th>\n",
       "      <th>att4@NUMERIC</th>\n",
       "      <th>att5@NUMERIC</th>\n",
       "      <th>att6@NUMERIC</th>\n",
       "      <th>att7@NUMERIC</th>\n",
       "      <th>att8@NUMERIC</th>\n",
       "      <th>att9@NUMERIC</th>\n",
       "      <th>att10@NUMERIC</th>\n",
       "      <th>...</th>\n",
       "      <th>att132@NUMERIC</th>\n",
       "      <th>att133@NUMERIC</th>\n",
       "      <th>att134@NUMERIC</th>\n",
       "      <th>att135@NUMERIC</th>\n",
       "      <th>att136@NUMERIC</th>\n",
       "      <th>att137@NUMERIC</th>\n",
       "      <th>att138@NUMERIC</th>\n",
       "      <th>att139@NUMERIC</th>\n",
       "      <th>att140@NUMERIC</th>\n",
       "      <th>target@{1,2,3,4,5}</th>\n",
       "    </tr>\n",
       "  </thead>\n",
       "  <tbody>\n",
       "    <tr>\n",
       "      <th>932</th>\n",
       "      <td>-0.075320</td>\n",
       "      <td>-1.460589</td>\n",
       "      <td>-2.210008</td>\n",
       "      <td>-3.324593</td>\n",
       "      <td>-3.772989</td>\n",
       "      <td>-3.253793</td>\n",
       "      <td>-2.053299</td>\n",
       "      <td>-1.886267</td>\n",
       "      <td>-1.798518</td>\n",
       "      <td>-0.940286</td>\n",
       "      <td>...</td>\n",
       "      <td>0.824480</td>\n",
       "      <td>0.892933</td>\n",
       "      <td>1.115028</td>\n",
       "      <td>0.982992</td>\n",
       "      <td>0.546125</td>\n",
       "      <td>0.894318</td>\n",
       "      <td>1.119690</td>\n",
       "      <td>1.175811</td>\n",
       "      <td>0.555767</td>\n",
       "      <td>1</td>\n",
       "    </tr>\n",
       "    <tr>\n",
       "      <th>3418</th>\n",
       "      <td>-1.309141</td>\n",
       "      <td>-1.472702</td>\n",
       "      <td>-1.424500</td>\n",
       "      <td>-1.550974</td>\n",
       "      <td>-1.512701</td>\n",
       "      <td>-1.560284</td>\n",
       "      <td>-1.755986</td>\n",
       "      <td>-1.821289</td>\n",
       "      <td>-1.686459</td>\n",
       "      <td>-1.821780</td>\n",
       "      <td>...</td>\n",
       "      <td>1.727856</td>\n",
       "      <td>1.582580</td>\n",
       "      <td>1.380243</td>\n",
       "      <td>1.219691</td>\n",
       "      <td>1.535461</td>\n",
       "      <td>1.872220</td>\n",
       "      <td>1.045581</td>\n",
       "      <td>-0.434978</td>\n",
       "      <td>-2.337629</td>\n",
       "      <td>3</td>\n",
       "    </tr>\n",
       "    <tr>\n",
       "      <th>1234</th>\n",
       "      <td>-0.776901</td>\n",
       "      <td>-2.387049</td>\n",
       "      <td>-3.405666</td>\n",
       "      <td>-4.279135</td>\n",
       "      <td>-4.559530</td>\n",
       "      <td>-3.849366</td>\n",
       "      <td>-2.805222</td>\n",
       "      <td>-1.670297</td>\n",
       "      <td>-1.171902</td>\n",
       "      <td>-0.633994</td>\n",
       "      <td>...</td>\n",
       "      <td>0.635859</td>\n",
       "      <td>0.449270</td>\n",
       "      <td>-0.164469</td>\n",
       "      <td>-0.713304</td>\n",
       "      <td>-1.293700</td>\n",
       "      <td>-1.438508</td>\n",
       "      <td>-0.853304</td>\n",
       "      <td>-0.371484</td>\n",
       "      <td>-1.548866</td>\n",
       "      <td>1</td>\n",
       "    </tr>\n",
       "    <tr>\n",
       "      <th>2111</th>\n",
       "      <td>0.562906</td>\n",
       "      <td>-1.281825</td>\n",
       "      <td>-2.715639</td>\n",
       "      <td>-4.120316</td>\n",
       "      <td>-4.064032</td>\n",
       "      <td>-3.035556</td>\n",
       "      <td>-2.024838</td>\n",
       "      <td>-1.861001</td>\n",
       "      <td>-1.177858</td>\n",
       "      <td>-0.443848</td>\n",
       "      <td>...</td>\n",
       "      <td>1.675769</td>\n",
       "      <td>1.909459</td>\n",
       "      <td>1.464944</td>\n",
       "      <td>1.171435</td>\n",
       "      <td>0.998764</td>\n",
       "      <td>0.809484</td>\n",
       "      <td>0.524937</td>\n",
       "      <td>1.019959</td>\n",
       "      <td>1.497237</td>\n",
       "      <td>1</td>\n",
       "    </tr>\n",
       "    <tr>\n",
       "      <th>3317</th>\n",
       "      <td>0.514930</td>\n",
       "      <td>-0.477889</td>\n",
       "      <td>-1.290087</td>\n",
       "      <td>-2.133637</td>\n",
       "      <td>-2.782633</td>\n",
       "      <td>-3.166533</td>\n",
       "      <td>-3.253469</td>\n",
       "      <td>-2.959048</td>\n",
       "      <td>-2.470666</td>\n",
       "      <td>-1.912872</td>\n",
       "      <td>...</td>\n",
       "      <td>-1.569182</td>\n",
       "      <td>-2.213739</td>\n",
       "      <td>-2.674724</td>\n",
       "      <td>-3.030639</td>\n",
       "      <td>-3.374209</td>\n",
       "      <td>-3.183987</td>\n",
       "      <td>-2.193119</td>\n",
       "      <td>-1.158894</td>\n",
       "      <td>0.249414</td>\n",
       "      <td>2</td>\n",
       "    </tr>\n",
       "  </tbody>\n",
       "</table>\n",
       "<p>5 rows × 141 columns</p>\n",
       "</div>"
      ],
      "text/plain": [
       "      att1@NUMERIC  att2@NUMERIC  att3@NUMERIC  att4@NUMERIC  att5@NUMERIC  \\\n",
       "932      -0.075320     -1.460589     -2.210008     -3.324593     -3.772989   \n",
       "3418     -1.309141     -1.472702     -1.424500     -1.550974     -1.512701   \n",
       "1234     -0.776901     -2.387049     -3.405666     -4.279135     -4.559530   \n",
       "2111      0.562906     -1.281825     -2.715639     -4.120316     -4.064032   \n",
       "3317      0.514930     -0.477889     -1.290087     -2.133637     -2.782633   \n",
       "\n",
       "      att6@NUMERIC  att7@NUMERIC  att8@NUMERIC  att9@NUMERIC  att10@NUMERIC  \\\n",
       "932      -3.253793     -2.053299     -1.886267     -1.798518      -0.940286   \n",
       "3418     -1.560284     -1.755986     -1.821289     -1.686459      -1.821780   \n",
       "1234     -3.849366     -2.805222     -1.670297     -1.171902      -0.633994   \n",
       "2111     -3.035556     -2.024838     -1.861001     -1.177858      -0.443848   \n",
       "3317     -3.166533     -3.253469     -2.959048     -2.470666      -1.912872   \n",
       "\n",
       "      ...  att132@NUMERIC  att133@NUMERIC  att134@NUMERIC  att135@NUMERIC  \\\n",
       "932   ...        0.824480        0.892933        1.115028        0.982992   \n",
       "3418  ...        1.727856        1.582580        1.380243        1.219691   \n",
       "1234  ...        0.635859        0.449270       -0.164469       -0.713304   \n",
       "2111  ...        1.675769        1.909459        1.464944        1.171435   \n",
       "3317  ...       -1.569182       -2.213739       -2.674724       -3.030639   \n",
       "\n",
       "      att136@NUMERIC  att137@NUMERIC  att138@NUMERIC  att139@NUMERIC  \\\n",
       "932         0.546125        0.894318        1.119690        1.175811   \n",
       "3418        1.535461        1.872220        1.045581       -0.434978   \n",
       "1234       -1.293700       -1.438508       -0.853304       -0.371484   \n",
       "2111        0.998764        0.809484        0.524937        1.019959   \n",
       "3317       -3.374209       -3.183987       -2.193119       -1.158894   \n",
       "\n",
       "      att140@NUMERIC  target@{1,2,3,4,5}  \n",
       "932         0.555767                   1  \n",
       "3418       -2.337629                   3  \n",
       "1234       -1.548866                   1  \n",
       "2111        1.497237                   1  \n",
       "3317        0.249414                   2  \n",
       "\n",
       "[5 rows x 141 columns]"
      ]
     },
     "execution_count": 7,
     "metadata": {},
     "output_type": "execute_result"
    }
   ],
   "source": [
    "df.head()"
   ]
  },
  {
   "cell_type": "code",
   "execution_count": 8,
   "metadata": {},
   "outputs": [],
   "source": [
    "col_dic={}\n",
    "for col in df.columns:\n",
    "    i=col.find('@')\n",
    "    col_dic[col]=col[:i]"
   ]
  },
  {
   "cell_type": "code",
   "execution_count": 9,
   "metadata": {},
   "outputs": [],
   "source": [
    "df.rename(columns=col_dic,inplace=True)"
   ]
  },
  {
   "cell_type": "code",
   "execution_count": 10,
   "metadata": {},
   "outputs": [
    {
     "data": {
      "text/plain": [
       "1    2919\n",
       "2    1767\n",
       "4     194\n",
       "3      96\n",
       "5      24\n",
       "Name: target, dtype: int64"
      ]
     },
     "execution_count": 10,
     "metadata": {},
     "output_type": "execute_result"
    }
   ],
   "source": [
    "df.target.value_counts()"
   ]
  },
  {
   "cell_type": "code",
   "execution_count": 11,
   "metadata": {},
   "outputs": [
    {
     "data": {
      "text/plain": [
       "[<matplotlib.lines.Line2D at 0x7f29abe4a760>]"
      ]
     },
     "execution_count": 11,
     "metadata": {},
     "output_type": "execute_result"
    },
    {
     "data": {
      "image/png": "[encoded data removed]",
      "text/plain": [
       "<Figure size 720x648 with 1 Axes>"
      ]
     },
     "metadata": {
      "needs_background": "light"
     },
     "output_type": "display_data"
    }
   ],
   "source": [
    "plt.figure(figsize=(10,9))\n",
    "plt.plot(df.iloc[404,:-1])"
   ]
  },
  {
   "cell_type": "code",
   "execution_count": 12,
   "metadata": {},
   "outputs": [
    {
     "data": {
      "text/plain": [
       "<BarContainer object of 5 artists>"
      ]
     },
     "execution_count": 12,
     "metadata": {},
     "output_type": "execute_result"
    },
    {
     "data": {
      "image/png": "[encoded data removed]",
      "text/plain": [
       "<Figure size 432x288 with 1 Axes>"
      ]
     },
     "metadata": {
      "needs_background": "light"
     },
     "output_type": "display_data"
    }
   ],
   "source": [
    "class_names = ['Normal','R on T','PVC','SP','UB']\n",
    "\n",
    "plt.bar(class_names, df.target.value_counts())"
   ]
  },
  {
   "cell_type": "markdown",
   "metadata": {},
   "source": [
    "# Data preparation"
   ]
  },
  {
   "cell_type": "code",
   "execution_count": 13,
   "metadata": {},
   "outputs": [],
   "source": [
    "normal=df.loc[df.target=='1'].drop(columns=['target'])"
   ]
  },
  {
   "cell_type": "code",
   "execution_count": 14,
   "metadata": {},
   "outputs": [],
   "source": [
    "anomaly=df.loc[df.target!='1'].drop(columns=['target'])"
   ]
  },
  {
   "cell_type": "code",
   "execution_count": 15,
   "metadata": {},
   "outputs": [],
   "source": [
    "train_df, test_df=train_test_split(normal,test_size=0.15)"
   ]
  },
  {
   "cell_type": "code",
   "execution_count": 16,
   "metadata": {},
   "outputs": [],
   "source": [
    "class MyDataset(Dataset):\n",
    "    def __init__(self,X):\n",
    "        self.x=X\n",
    "        \n",
    "    def __len__(self):\n",
    "        return len(self.x)\n",
    "    \n",
    "    def __getitem__(self, index):\n",
    "        return torch.FloatTensor(self.x[index].reshape(-1,1))"
   ]
  },
  {
   "cell_type": "code",
   "execution_count": 17,
   "metadata": {},
   "outputs": [],
   "source": [
    "train_ds=MyDataset(train_df.values)\n",
    "test_ds=MyDataset(test_df.values)"
   ]
  },
  {
   "cell_type": "code",
   "execution_count": 18,
   "metadata": {},
   "outputs": [],
   "source": [
    "anomaly_ds=MyDataset(anomaly.values)"
   ]
  },
  {
   "cell_type": "code",
   "execution_count": 19,
   "metadata": {},
   "outputs": [],
   "source": [
    "train_dl = torch.utils.data.DataLoader(train_ds, batch_size=12, shuffle=True, num_workers=6)\n",
    "test_dl=torch.utils.data.DataLoader(test_ds, batch_size=12, shuffle=True, num_workers=6)"
   ]
  },
  {
   "cell_type": "code",
   "execution_count": 20,
   "metadata": {},
   "outputs": [],
   "source": [
    "anomaly_dl=torch.utils.data.DataLoader(anomaly_ds, batch_size=12, shuffle=True, num_workers=6)"
   ]
  },
  {
   "cell_type": "markdown",
   "metadata": {},
   "source": [
    "# Autoencoder Model"
   ]
  },
  {
   "cell_type": "code",
   "execution_count": 21,
   "metadata": {},
   "outputs": [],
   "source": [
    "class Encoder(nn.Module):\n",
    "  def __init__(self, seq_len, n_features, embedding_dim=64):\n",
    "    super(Encoder, self).__init__()\n",
    "    self.seq_len, self.n_features = seq_len, n_features\n",
    "    self.embedding_dim, self.hidden_dim = embedding_dim, 2 * embedding_dim\n",
    "    \n",
    "    self.rnn1 = nn.LSTM(\n",
    "      input_size=n_features,\n",
    "      hidden_size=self.hidden_dim,\n",
    "      num_layers=1,\n",
    "      batch_first=True\n",
    "    )\n",
    "    self.rnn2 = nn.LSTM(\n",
    "      input_size=self.hidden_dim,\n",
    "      hidden_size=embedding_dim,\n",
    "      num_layers=1,\n",
    "      batch_first=True\n",
    "    )\n",
    "  def forward(self, x):\n",
    "    x, (_, _) = self.rnn1(x)\n",
    "    x, (hidden_n, _) = self.rnn2(x)\n",
    "    #hidden_n.size= 1, batch size, embedding_dim\n",
    "    hidden_n=hidden_n.squeeze(0).unsqueeze(1)\n",
    "    #hidden_n.size=batch size,1,embedding_dim\n",
    "    return hidden_n\n",
    "\n",
    "class Decoder(nn.Module):\n",
    "  def __init__(self, seq_len, input_dim=64, n_features=1):\n",
    "    super(Decoder, self).__init__()\n",
    "    self.seq_len, self.input_dim = seq_len, input_dim\n",
    "    self.hidden_dim, self.n_features = 2 * input_dim, n_features\n",
    "    \n",
    "    self.rnn1 = nn.LSTM(\n",
    "      input_size=input_dim,\n",
    "      hidden_size=input_dim,\n",
    "      num_layers=1,\n",
    "      batch_first=True\n",
    "    )\n",
    "    self.rnn2 = nn.LSTM(\n",
    "      input_size=input_dim,\n",
    "      hidden_size=self.hidden_dim,\n",
    "      num_layers=1,\n",
    "      batch_first=True\n",
    "    )\n",
    "    self.output_layer = nn.Linear(self.hidden_dim, n_features)\n",
    "    \n",
    "  def forward(self, x):\n",
    "    x = x.repeat(1,self.seq_len, self.n_features)\n",
    "    x, (hidden_n, cell_n) = self.rnn1(x)\n",
    "    x, (hidden_n, cell_n) = self.rnn2(x)\n",
    "    return self.output_layer(x)\n",
    "\n",
    "class RecurrentAutoencoder(nn.Module):\n",
    "  def __init__(self, seq_len, n_features, embedding_dim=64):\n",
    "    super(RecurrentAutoencoder, self).__init__()\n",
    "    self.encoder = Encoder(seq_len, n_features, embedding_dim)\n",
    "    self.decoder = Decoder(seq_len, embedding_dim, n_features)\n",
    "  def forward(self, x):\n",
    "    x = self.encoder(x)\n",
    "    x = self.decoder(x)\n",
    "    return x"
   ]
  },
  {
   "cell_type": "markdown",
   "metadata": {},
   "source": [
    "# Training"
   ]
  },
  {
   "cell_type": "code",
   "execution_count": 22,
   "metadata": {},
   "outputs": [],
   "source": [
    "def train_fct(model, train_loader, epochs, criterion, optimizer, device):\n",
    "    L=len(train_loader)\n",
    "    model.train()\n",
    "    for epoch in range(1, epochs + 1):\n",
    "         # Make sure that the model is in training mode.\n",
    "\n",
    "        total_loss = 0\n",
    "        hidden = None\n",
    "        for batch in tqdm(train_loader):\n",
    "            # get data\n",
    "                       \n",
    "            batch= batch.to(device)\n",
    "            optimizer.zero_grad()\n",
    "\n",
    "            # get predictions from model\n",
    "            pred = model(batch)\n",
    "            \n",
    "            # perform backprop\n",
    "            loss = criterion( pred,batch)\n",
    "            loss.backward()\n",
    "            optimizer.step()\n",
    "            \n",
    "            total_loss += loss.data.item()\n",
    "        \n",
    "        if epoch%5==0:\n",
    "            print(\"Epoch: {}, Loss: {}\".format(epoch, total_loss /L))\n",
    "        \n",
    "def val_score(model,test_dl,criterion):\n",
    "    total_loss = 0\n",
    "    L=len(test_dl)\n",
    "    model.eval()\n",
    "    for batch in tqdm(test_dl):\n",
    "        # get data\n",
    "        \n",
    "        batch= batch.to(device)\n",
    "\n",
    "        # get predictions from model\n",
    "        pred = model(batch)\n",
    "        loss=criterion(pred,batch)\n",
    "        total_loss += loss.data.item()\n",
    "    \n",
    "    return (total_loss/L)"
   ]
  },
  {
   "cell_type": "code",
   "execution_count": 23,
   "metadata": {},
   "outputs": [
    {
     "name": "stdout",
     "output_type": "stream",
     "text": [
      "Using device cuda.\n"
     ]
    }
   ],
   "source": [
    "device = torch.device(\"cuda\" if torch.cuda.is_available() else \"cpu\")\n",
    "print(\"Using device {}.\".format(device))"
   ]
  },
  {
   "cell_type": "code",
   "execution_count": 24,
   "metadata": {},
   "outputs": [
    {
     "data": {
      "text/plain": [
       "RecurrentAutoencoder(\n",
       "  (encoder): Encoder(\n",
       "    (rnn1): LSTM(1, 256, batch_first=True)\n",
       "    (rnn2): LSTM(256, 128, batch_first=True)\n",
       "  )\n",
       "  (decoder): Decoder(\n",
       "    (rnn1): LSTM(128, 128, batch_first=True)\n",
       "    (rnn2): LSTM(128, 256, batch_first=True)\n",
       "    (output_layer): Linear(in_features=256, out_features=1, bias=True)\n",
       "  )\n",
       ")"
      ]
     },
     "execution_count": 24,
     "metadata": {},
     "output_type": "execute_result"
    }
   ],
   "source": [
    "model=RecurrentAutoencoder(seq_len=140,n_features=1,embedding_dim=128).to(device)\n",
    "model"
   ]
  },
  {
   "cell_type": "code",
   "execution_count": 25,
   "metadata": {},
   "outputs": [],
   "source": [
    "optimizer = torch.optim.Adam(model.parameters(), lr=0.001)\n",
    "criterion = nn.L1Loss(reduction='mean')"
   ]
  },
  {
   "cell_type": "code",
   "execution_count": 26,
   "metadata": {},
   "outputs": [
    {
     "name": "stderr",
     "output_type": "stream",
     "text": [
      "100%|██████████| 207/207 [00:07<00:00, 28.02it/s]\n",
      "100%|██████████| 207/207 [00:07<00:00, 26.44it/s]\n",
      "100%|██████████| 207/207 [00:07<00:00, 27.99it/s]\n",
      "100%|██████████| 207/207 [00:08<00:00, 25.81it/s]\n",
      "100%|██████████| 207/207 [00:08<00:00, 25.21it/s]\n",
      "  0%|          | 0/207 [00:00<?, ?it/s]"
     ]
    },
    {
     "name": "stdout",
     "output_type": "stream",
     "text": [
      "Epoch: 5, Loss: 0.3699456912595869\n"
     ]
    },
    {
     "name": "stderr",
     "output_type": "stream",
     "text": [
      "100%|██████████| 207/207 [00:08<00:00, 25.11it/s]\n",
      "100%|██████████| 207/207 [00:08<00:00, 25.07it/s]\n",
      "100%|██████████| 207/207 [00:08<00:00, 24.84it/s]\n",
      "100%|██████████| 207/207 [00:08<00:00, 23.96it/s]\n",
      "100%|██████████| 207/207 [00:08<00:00, 24.83it/s]\n",
      "  0%|          | 0/207 [00:00<?, ?it/s]"
     ]
    },
    {
     "name": "stdout",
     "output_type": "stream",
     "text": [
      "Epoch: 10, Loss: 0.20604689671221563\n"
     ]
    },
    {
     "name": "stderr",
     "output_type": "stream",
     "text": [
      "100%|██████████| 207/207 [00:08<00:00, 25.19it/s]\n",
      "100%|██████████| 207/207 [00:07<00:00, 26.09it/s]\n",
      "100%|██████████| 207/207 [00:12<00:00, 16.46it/s]\n",
      "100%|██████████| 207/207 [00:08<00:00, 23.62it/s]\n",
      "100%|██████████| 207/207 [00:15<00:00, 13.69it/s]\n",
      "  0%|          | 0/207 [00:00<?, ?it/s]"
     ]
    },
    {
     "name": "stdout",
     "output_type": "stream",
     "text": [
      "Epoch: 15, Loss: 0.16135434075686092\n"
     ]
    },
    {
     "name": "stderr",
     "output_type": "stream",
     "text": [
      "100%|██████████| 207/207 [00:09<00:00, 21.80it/s]\n",
      "100%|██████████| 207/207 [00:09<00:00, 22.65it/s]\n",
      "100%|██████████| 207/207 [00:09<00:00, 22.90it/s]\n",
      "100%|██████████| 207/207 [00:12<00:00, 15.94it/s]\n",
      "100%|██████████| 207/207 [00:07<00:00, 26.55it/s]"
     ]
    },
    {
     "name": "stdout",
     "output_type": "stream",
     "text": [
      "Epoch: 20, Loss: 0.14335151229071733\n"
     ]
    },
    {
     "name": "stderr",
     "output_type": "stream",
     "text": [
      "\n"
     ]
    }
   ],
   "source": [
    "train_fct(model,train_dl,20,criterion=criterion,optimizer=optimizer,device=device)"
   ]
  },
  {
   "cell_type": "code",
   "execution_count": 27,
   "metadata": {},
   "outputs": [
    {
     "name": "stderr",
     "output_type": "stream",
     "text": [
      "100%|██████████| 37/37 [00:00<00:00, 53.06it/s]\n"
     ]
    },
    {
     "data": {
      "text/plain": [
       "0.14695544802659266"
      ]
     },
     "execution_count": 27,
     "metadata": {},
     "output_type": "execute_result"
    }
   ],
   "source": [
    "val_score(model,test_dl,criterion)"
   ]
  },
  {
   "cell_type": "markdown",
   "metadata": {},
   "source": [
    "# Losses"
   ]
  },
  {
   "cell_type": "code",
   "execution_count": 28,
   "metadata": {},
   "outputs": [],
   "source": [
    "def losses(model,data_loader):\n",
    "    model.eval()\n",
    "    ls=[]\n",
    "    for b in data_loader:\n",
    "        b=b.to(device)\n",
    "        pred=model(b)\n",
    "        loss=torch.abs(pred-b).squeeze(-1).mean(1)\n",
    "        ls.append(loss)\n",
    "    \n",
    "    return torch.cat(ls).cpu().detach().numpy()"
   ]
  },
  {
   "cell_type": "code",
   "execution_count": 29,
   "metadata": {},
   "outputs": [],
   "source": [
    "ls=losses(model,train_dl)"
   ]
  },
  {
   "cell_type": "code",
   "execution_count": 30,
   "metadata": {},
   "outputs": [
    {
     "data": {
      "text/plain": [
       "<seaborn.axisgrid.FacetGrid at 0x7f29aaef99a0>"
      ]
     },
     "execution_count": 30,
     "metadata": {},
     "output_type": "execute_result"
    },
    {
     "data": {
      "image/png": "[encoded data removed]",
      "text/plain": [
       "<Figure size 360x360 with 1 Axes>"
      ]
     },
     "metadata": {
      "needs_background": "light"
     },
     "output_type": "display_data"
    }
   ],
   "source": [
    "sns.displot(ls,kde=True)"
   ]
  },
  {
   "cell_type": "code",
   "execution_count": 31,
   "metadata": {},
   "outputs": [],
   "source": [
    "ls=losses(model,test_dl)"
   ]
  },
  {
   "cell_type": "code",
   "execution_count": 32,
   "metadata": {},
   "outputs": [
    {
     "name": "stderr",
     "output_type": "stream",
     "text": [
      "/home/joao/anaconda3/lib/python3.8/site-packages/seaborn/distributions.py:2551: FutureWarning: `distplot` is a deprecated function and will be removed in a future version. Please adapt your code to use either `displot` (a figure-level function with similar flexibility) or `histplot` (an axes-level function for histograms).\n",
      "  warnings.warn(msg, FutureWarning)\n"
     ]
    },
    {
     "data": {
      "text/plain": [
       "<AxesSubplot:ylabel='Density'>"
      ]
     },
     "execution_count": 32,
     "metadata": {},
     "output_type": "execute_result"
    },
    {
     "data": {
      "image/png": "[encoded data removed]",
      "text/plain": [
       "<Figure size 432x288 with 1 Axes>"
      ]
     },
     "metadata": {
      "needs_background": "light"
     },
     "output_type": "display_data"
    }
   ],
   "source": [
    "sns.distplot(ls,kde=True)"
   ]
  },
  {
   "cell_type": "code",
   "execution_count": 33,
   "metadata": {},
   "outputs": [
    {
     "data": {
      "text/plain": [
       "0.325"
      ]
     },
     "execution_count": 33,
     "metadata": {},
     "output_type": "execute_result"
    }
   ],
   "source": [
    "THRESHOLD=np.round(np.quantile(ls,0.99),3)\n",
    "THRESHOLD"
   ]
  },
  {
   "cell_type": "code",
   "execution_count": 34,
   "metadata": {},
   "outputs": [],
   "source": [
    "ls=losses(model,anomaly_dl)"
   ]
  },
  {
   "cell_type": "code",
   "execution_count": 35,
   "metadata": {},
   "outputs": [
    {
     "name": "stderr",
     "output_type": "stream",
     "text": [
      "/home/joao/anaconda3/lib/python3.8/site-packages/seaborn/distributions.py:2551: FutureWarning: `distplot` is a deprecated function and will be removed in a future version. Please adapt your code to use either `displot` (a figure-level function with similar flexibility) or `histplot` (an axes-level function for histograms).\n",
      "  warnings.warn(msg, FutureWarning)\n"
     ]
    },
    {
     "data": {
      "text/plain": [
       "<AxesSubplot:ylabel='Density'>"
      ]
     },
     "execution_count": 35,
     "metadata": {},
     "output_type": "execute_result"
    },
    {
     "data": {
      "image/png": "[encoded data removed]",
      "text/plain": [
       "<Figure size 432x288 with 1 Axes>"
      ]
     },
     "metadata": {
      "needs_background": "light"
     },
     "output_type": "display_data"
    }
   ],
   "source": [
    "sns.distplot(ls)"
   ]
  },
  {
   "cell_type": "code",
   "execution_count": 36,
   "metadata": {},
   "outputs": [
    {
     "data": {
      "text/plain": [
       "0.9716482460355599"
      ]
     },
     "execution_count": 36,
     "metadata": {},
     "output_type": "execute_result"
    }
   ],
   "source": [
    "(ls>THRESHOLD).mean()"
   ]
  }
 ],
 "metadata": {
  "interpreter": {
   "hash": "46b936ff1622c326d442b837a2b71fa5dbcf20e52e3a75b5ec5a0d8bfc7f438d"
  },
  "kernelspec": {
   "display_name": "Python 3.8.5 64-bit ('base': conda)",
   "language": "python",
   "name": "python3"
  },
  "language_info": {
   "codemirror_mode": {
    "name": "ipython",
    "version": 3
   },
   "file_extension": ".py",
   "mimetype": "text/x-python",
   "name": "python",
   "nbconvert_exporter": "python",
   "pygments_lexer": "ipython3",
   "version": "3.8.5"
  },
  "orig_nbformat": 4
 },
 "nbformat": 4,
 "nbformat_minor": 2
}
